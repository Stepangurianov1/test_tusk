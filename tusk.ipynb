{
 "cells": [
  {
   "cell_type": "code",
   "execution_count": 50,
   "id": "c80933cc",
   "metadata": {},
   "outputs": [],
   "source": [
    "def main_1(digit):\n",
    "    rez_dict = {}\n",
    "    i = 0\n",
    "    while i < digit:\n",
    "        summ = 0\n",
    "        for el in str(digit):\n",
    "            summ += int(el)\n",
    "        if rez_dict.get(summ) is None:\n",
    "            rez_dict[summ] = 1\n",
    "        else:\n",
    "            rez_dict[summ] += 1\n",
    "        digit -= 1\n",
    "    return sorted(rez_dict.items(), key=lambda x: x[0])"
   ]
  },
  {
   "cell_type": "code",
   "execution_count": 55,
   "id": "84cb30ac",
   "metadata": {},
   "outputs": [
    {
     "data": {
      "text/plain": [
       "[(1, 3),\n",
       " (2, 3),\n",
       " (3, 4),\n",
       " (4, 5),\n",
       " (5, 6),\n",
       " (6, 7),\n",
       " (7, 8),\n",
       " (8, 9),\n",
       " (9, 10),\n",
       " (10, 9),\n",
       " (11, 8),\n",
       " (12, 7),\n",
       " (13, 6),\n",
       " (14, 5),\n",
       " (15, 4),\n",
       " (16, 3),\n",
       " (17, 2),\n",
       " (18, 1)]"
      ]
     },
     "execution_count": 55,
     "metadata": {},
     "output_type": "execute_result"
    }
   ],
   "source": [
    "rez = main(100)\n",
    "rez"
   ]
  },
  {
   "cell_type": "code",
   "execution_count": 52,
   "id": "24807733",
   "metadata": {},
   "outputs": [],
   "source": [
    "from prettytable import PrettyTable "
   ]
  },
  {
   "cell_type": "code",
   "execution_count": 53,
   "id": "3be58040",
   "metadata": {},
   "outputs": [],
   "source": [
    "def plot(rez):\n",
    "    mytable = PrettyTable()\n",
    "    mytable.field_names = [\"Сумма чисел\", \"Сколько раз встречается число\"]\n",
    "    for i, el in enumerate(rez):\n",
    "        mytable.add_row(rez[i])\n",
    "    return mytable"
   ]
  },
  {
   "cell_type": "code",
   "execution_count": 102,
   "id": "4db20d5e",
   "metadata": {},
   "outputs": [],
   "source": [
    "def main_2(digit_start, digit_count):\n",
    "    digit_end = digit_start + digit_count\n",
    "    rez_dict = {}\n",
    "    while digit_start < digit_end:\n",
    "        summ = 0\n",
    "        for el in str(digit_end):\n",
    "            summ += int(el)\n",
    "        if rez_dict.get(summ) is None:\n",
    "            rez_dict[summ] = 1\n",
    "        else:\n",
    "            rez_dict[summ] += 1\n",
    "        digit_end -= 1\n",
    "    return sorted(rez_dict.items(), key=lambda x: x[0])"
   ]
  },
  {
   "cell_type": "code",
   "execution_count": 103,
   "id": "956fec07",
   "metadata": {},
   "outputs": [],
   "source": [
    "rez_1 = main_2(21415, 7812412)"
   ]
  },
  {
   "cell_type": "code",
   "execution_count": 83,
   "id": "60014ccb",
   "metadata": {},
   "outputs": [
    {
     "name": "stdout",
     "output_type": "stream",
     "text": [
      "[(1, 1), (2, 8), (3, 34), (4, 105), (5, 266), (6, 588), (7, 1177), (8, 2183), (9, 3807), (10, 6309), (11, 10006), (12, 15263), (13, 22477), (14, 32055), (15, 44388), (16, 59809), (17, 78558), (18, 100736), (19, 126267), (20, 154864), (21, 186014), (22, 218982), (23, 252830), (24, 286451), (25, 318622), (26, 348069), (27, 373554), (28, 393954), (29, 408341), (30, 416050), (31, 416724), (32, 410334), (33, 397184), (34, 377890), (35, 353341), (36, 324633), (37, 292985), (38, 259659), (39, 225883), (40, 192778), (41, 161308), (42, 132245), (43, 106139), (44, 83318), (45, 63895), (46, 47801), (47, 34827), (48, 24661), (49, 16931), (50, 11239), (51, 7188), (52, 4409), (53, 2577), (54, 1421), (55, 729), (56, 341), (57, 141), (58, 49), (59, 13), (60, 2)]\n"
     ]
    }
   ],
   "source": [
    "print(rez_1)"
   ]
  },
  {
   "cell_type": "code",
   "execution_count": 104,
   "id": "ddbcec49",
   "metadata": {},
   "outputs": [
    {
     "name": "stdout",
     "output_type": "stream",
     "text": [
      "+-------------+-------------------------------+\n",
      "| Сумма чисел | Сколько раз встречается число |\n",
      "+-------------+-------------------------------+\n",
      "|      1      |               3               |\n",
      "|      2      |               3               |\n",
      "|      3      |               4               |\n",
      "|      4      |               5               |\n",
      "|      5      |               6               |\n",
      "|      6      |               7               |\n",
      "|      7      |               8               |\n",
      "|      8      |               9               |\n",
      "|      9      |               10              |\n",
      "|      10     |               9               |\n",
      "|      11     |               8               |\n",
      "|      12     |               7               |\n",
      "|      13     |               6               |\n",
      "|      14     |               5               |\n",
      "|      15     |               4               |\n",
      "|      16     |               3               |\n",
      "|      17     |               2               |\n",
      "|      18     |               1               |\n",
      "+-------------+-------------------------------+\n"
     ]
    }
   ],
   "source": [
    "print(plot(rez))"
   ]
  },
  {
   "cell_type": "code",
   "execution_count": 105,
   "id": "928b5529",
   "metadata": {},
   "outputs": [
    {
     "name": "stdout",
     "output_type": "stream",
     "text": [
      "+-------------+-------------------------------+\n",
      "| Сумма чисел | Сколько раз встречается число |\n",
      "+-------------+-------------------------------+\n",
      "|      1      |               7               |\n",
      "|      2      |               28              |\n",
      "|      3      |               84              |\n",
      "|      4      |              210              |\n",
      "|      5      |              462              |\n",
      "|      6      |              924              |\n",
      "|      7      |              1716             |\n",
      "|      8      |              3002             |\n",
      "|      9      |              4998             |\n",
      "|      10     |              7974             |\n",
      "|      11     |             12250             |\n",
      "|      12     |             18186             |\n",
      "|      13     |             26166             |\n",
      "|      14     |             36576             |\n",
      "|      15     |             49776             |\n",
      "|      16     |             66065             |\n",
      "|      17     |             85640             |\n",
      "|      18     |             108556            |\n",
      "|      19     |             134685            |\n",
      "|      20     |             163692            |\n",
      "|      21     |             195025            |\n",
      "|      22     |             227920            |\n",
      "|      23     |             261420            |\n",
      "|      24     |             294411            |\n",
      "|      25     |             325675            |\n",
      "|      26     |             353957            |\n",
      "|      27     |             378053            |\n",
      "|      28     |             396885            |\n",
      "|      29     |             409586            |\n",
      "|      30     |             415557            |\n",
      "|      31     |             414507            |\n",
      "|      32     |             406474            |\n",
      "|      33     |             391825            |\n",
      "|      34     |             371232            |\n",
      "|      35     |             345632            |\n",
      "|      36     |             316153            |\n",
      "|      37     |             284031            |\n",
      "|      38     |             250528            |\n",
      "|      39     |             216853            |\n",
      "|      40     |             184098            |\n",
      "|      41     |             153188            |\n",
      "|      42     |             124845            |\n",
      "|      43     |             99570             |\n",
      "|      44     |             77637             |\n",
      "|      45     |             59109             |\n",
      "|      46     |             43876             |\n",
      "|      47     |             31696             |\n",
      "|      48     |             22236             |\n",
      "|      49     |             15111             |\n",
      "|      50     |              9918             |\n",
      "|      51     |              6264             |\n",
      "|      52     |              3788             |\n",
      "|      53     |              2177             |\n",
      "|      54     |              1176             |\n",
      "|      55     |              588              |\n",
      "|      56     |              266              |\n",
      "|      57     |              105              |\n",
      "|      58     |               34              |\n",
      "|      59     |               8               |\n",
      "|      60     |               1               |\n",
      "+-------------+-------------------------------+\n"
     ]
    }
   ],
   "source": [
    "print(plot(rez_1))"
   ]
  },
  {
   "cell_type": "code",
   "execution_count": null,
   "id": "18c85231",
   "metadata": {},
   "outputs": [],
   "source": []
  }
 ],
 "metadata": {
  "kernelspec": {
   "display_name": "Python 3 (ipykernel)",
   "language": "python",
   "name": "python3"
  },
  "language_info": {
   "codemirror_mode": {
    "name": "ipython",
    "version": 3
   },
   "file_extension": ".py",
   "mimetype": "text/x-python",
   "name": "python",
   "nbconvert_exporter": "python",
   "pygments_lexer": "ipython3",
   "version": "3.9.12"
  }
 },
 "nbformat": 4,
 "nbformat_minor": 5
}
